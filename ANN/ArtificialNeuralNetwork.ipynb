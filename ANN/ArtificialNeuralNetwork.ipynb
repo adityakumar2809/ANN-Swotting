{
  "nbformat": 4,
  "nbformat_minor": 0,
  "metadata": {
    "colab": {
      "name": "ArtificialNeuralNetwork.ipynb",
      "provenance": [],
      "authorship_tag": "ABX9TyOi877ckIDZjP3K124GsaAp",
      "include_colab_link": true
    },
    "kernelspec": {
      "name": "python3",
      "display_name": "Python 3"
    },
    "language_info": {
      "name": "python"
    }
  },
  "cells": [
    {
      "cell_type": "markdown",
      "metadata": {
        "id": "view-in-github",
        "colab_type": "text"
      },
      "source": [
        "<a href=\"https://colab.research.google.com/github/adityakumar2809/Deep-Learning-Swotting/blob/main/ANN/ArtificialNeuralNetwork.ipynb\" target=\"_parent\"><img src=\"https://colab.research.google.com/assets/colab-badge.svg\" alt=\"Open In Colab\"/></a>"
      ]
    },
    {
      "cell_type": "code",
      "metadata": {
        "id": "RiN6Aj4QEygm"
      },
      "source": [
        "# Code to learn Aritificial Neural Networks using Python"
      ],
      "execution_count": null,
      "outputs": []
    }
  ]
}